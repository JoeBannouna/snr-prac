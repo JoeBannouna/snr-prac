{
 "cells": [
  {
   "cell_type": "code",
   "execution_count": 180,
   "metadata": {},
   "outputs": [
    {
     "name": "stderr",
     "output_type": "stream",
     "text": [
      "C:\\Users\\aiden\\anaconda3\\envs\\pracs\\Lib\\site-packages\\astropy\\units\\quantity.py:671: RuntimeWarning: invalid value encountered in sqrt\n",
      "  result = super().__array_ufunc__(function, method, *arrays, **kwargs)\n"
     ]
    },
    {
     "data": {
      "image/png": "[encoded data removed]",
      "text/plain": [
       "<Figure size 640x480 with 1 Axes>"
      ]
     },
     "metadata": {},
     "output_type": "display_data"
    }
   ],
   "source": [
    "import pandas as pd\n",
    "import numpy as np\n",
    "\n",
    "from scipy.ndimage import gaussian_filter\n",
    "\n",
    "import matplotlib.pyplot as plt\n",
    "from matplotlib.colors import LogNorm \n",
    "\n",
    "from astropy import units as u\n",
    "from astropy import coordinates as coord\n",
    "from astropy.io import fits\n",
    "from astropy.wcs import WCS\n",
    "from astropy.visualization.wcsaxes import WCSAxes\n",
    "from astropy.utils.data import get_pkg_data_filename\n",
    "\n",
    "from urllib.request import urlretrieve\n",
    "\n",
    "\n",
    "# Define Shell function for constant E. The general \n",
    "# modeling space is around 100-200 parsecs. E is constant in \n",
    "# this function, resulting in D being constant.\n",
    "\n",
    "# R = np.linspace(0, 100, 1000);\n",
    "# t = np.linspace(0, 100, 100);\n",
    "\n",
    "# R -> The distance from the centre\n",
    "# t -> The time\n",
    "# D -> Diffusion coefficient\n",
    "# E is the energy, no energy is lost in this system\n",
    "\n",
    "# R -> The distance from the centre\n",
    "# t -> The time\n",
    "# D -> Diffusion coefficient\n",
    "# E is the energy, no energy is lost in this system\n",
    "\n",
    "@u.quantity_input(t=u.yr, E=u.eV)\n",
    "def Rshell(E, n0=10/u.cm**3, ESN=1e52*u.erg, Emax = 5*u.PeV, beta = 2.48):\n",
    "    R = 0.31*(ESN/(1e51*u.erg))**(1/5)*(n0/(u.cm**-3))**(-1/5)*(Tesc(E, Emax, beta)/u.yr)**(2/5) *u.pc\n",
    "    return R.to(u.pc)\n",
    "\n",
    "\n",
    "@u.quantity_input(E=u.erg)\n",
    "def Tesc(E, Emax = 5*u.PeV, beta = 2.48):\n",
    "    ts = 1600*u.yr\n",
    "    return (ts*(E/Emax)**(-1/beta)).to(u.yr)\n",
    "\n",
    "\n",
    "\n",
    "@u.quantity_input(E=u.erg)\n",
    "def diffusion(E, B = 50 * u.G*1e-6, x = 0.1, delta = 0.5):\n",
    "    Dn = 3*10**27 * 0.1 \n",
    "    dif = x * Dn * ((3*E/(u.GeV))/(10*B/(u.G*1e-6)))**delta\n",
    "    return dif * u.cm**2 * u.s**-1\n",
    "\n",
    "@u.quantity_input(E=u.erg, R=u.pc, t=u.yr)\n",
    "def distribution(E, R, t, alpha = 2.7):\n",
    "    Tpp = 6*(10**7) * u.yr\n",
    "    Rdif = 2 * np.sqrt(diffusion(E) * (t - Tesc(E)))\n",
    "\n",
    "    N = 1\n",
    "\n",
    "    first1 = (np.pi**(1/2))*(Rdif**2) \n",
    "    first2 = 2*(np.pi**(1/2)*(Rshell(E))**2) \n",
    "    first3 = 4*Rshell(E)*(Rdif)\n",
    "    \n",
    "    firstT = first1 + first2 + first3\n",
    "\n",
    "    dist = N*((E/u.TeV)**-alpha)*(firstT/(np.pi**(1/2)*(Rdif)**2))**(-1)*(1/(np.pi**(3/2)*(Rdif)**3))*np.exp(-(R-Rshell(E))**2/(Rdif)**2)\n",
    "\n",
    "    return dist\n",
    "\n",
    "\n",
    "var = input(\"What variable to plot against? (r, E, t)\")\n",
    "\n",
    "if(var == 'r'):\n",
    "    E = float(input(\"At what energy ? \").strip())\n",
    "    if(E == 0):\n",
    "        E = 5*u.TeV\n",
    "\n",
    "    T = float(input(\"At what time ? \").strip())\n",
    "    if(T == 0):\n",
    "        T = 50*u.kyr\n",
    "\n",
    "    Rs = np.linspace(Rshell(E), 100*u.pc, 200)\n",
    "\n",
    "    for R in Rs:\n",
    "        plt.plot(R, distribution([E]*u.TeV, R, T), 'o')\n",
    "\n",
    "\n",
    "if(var == 't'):\n",
    "    E = float(input(\"At what energy ? \").strip())\n",
    "    if(E == 0):\n",
    "        E = 5*u.TeV\n",
    "\n",
    "    R = float(input(\"At what radius ? \").strip())\n",
    "    if(R == 0):\n",
    "        R = 50*u.pc\n",
    "        \n",
    "    ts = np.linspace(Tesc(E).to(u.kyr).value, (50*u.kyr).to(u.kyr).value, 200)*u.kyr\n",
    "\n",
    "    for T in ts:\n",
    "        plt.plot(T, distribution([E]*u.TeV, R, T), 'ro')\n",
    "        plt.plot(T, distribution([E*10]*u.TeV, R, T), 'ko')\n",
    "\n",
    "    \n",
    "    #plt.yscale(\"log\")\n",
    "\n",
    "if(var == 'E'):\n",
    "    t = float(input(\"At what time ? \").strip())\n",
    "    if(t == 0):\n",
    "        t = 5*u.kyr\n",
    "\n",
    "    R = float(input(\"At what radius ? \").strip())\n",
    "    if(R == 0):\n",
    "        R = 50*u.pc\n",
    "        \n",
    "    Es = np.logspace(0, 10, 200)*u.TeV\n",
    "\n",
    "    plt.plot(Es, distribution(Es, R, t), 'ro')\n",
    "    plt.yscale(\"log\")\n",
    "    plt.xscale(\"log\")\n"
   ]
  },
  {
   "cell_type": "code",
   "execution_count": null,
   "metadata": {},
   "outputs": [],
   "source": []
  },
  {
   "cell_type": "code",
   "execution_count": null,
   "metadata": {},
   "outputs": [],
   "source": []
  },
  {
   "cell_type": "code",
   "execution_count": 181,
   "metadata": {},
   "outputs": [
    {
     "ename": "TypeError",
     "evalue": "logspace() missing 2 required positional arguments: 'start' and 'stop'",
     "output_type": "error",
     "traceback": [
      "\u001b[1;31m---------------------------------------------------------------------------\u001b[0m",
      "\u001b[1;31mTypeError\u001b[0m                                 Traceback (most recent call last)",
      "Cell \u001b[1;32mIn[181], line 1\u001b[0m\n\u001b[1;32m----> 1\u001b[0m Es \u001b[38;5;241m=\u001b[39m \u001b[43mnp\u001b[49m\u001b[38;5;241;43m.\u001b[39;49m\u001b[43mlogspace\u001b[49m\u001b[43m(\u001b[49m\u001b[43m)\u001b[49m\n\u001b[0;32m      2\u001b[0m plt\u001b[38;5;241m.\u001b[39mplot(Es, distribution(Es, \u001b[38;5;241m10\u001b[39m\u001b[38;5;241m*\u001b[39mu\u001b[38;5;241m.\u001b[39mpc, t))\n\u001b[0;32m      3\u001b[0m plt\u001b[38;5;241m.\u001b[39mplot(Es, distribution(Es, \u001b[38;5;241m20\u001b[39m\u001b[38;5;241m*\u001b[39mu\u001b[38;5;241m.\u001b[39mpc, t))\n",
      "\u001b[1;31mTypeError\u001b[0m: logspace() missing 2 required positional arguments: 'start' and 'stop'"
     ]
    }
   ],
   "source": [
    "Es = np.logspace()\n",
    "plt.plot(Es, distribution(Es, 10*u.pc, t))\n",
    "plt.plot(Es, distribution(Es, 20*u.pc, t))"
   ]
  }
 ],
 "metadata": {
  "kernelspec": {
   "display_name": "Python 3 (ipykernel)",
   "language": "python",
   "name": "python3"
  },
  "language_info": {
   "codemirror_mode": {
    "name": "ipython",
    "version": 3
   },
   "file_extension": ".py",
   "mimetype": "text/x-python",
   "name": "python",
   "nbconvert_exporter": "python",
   "pygments_lexer": "ipython3",
   "version": "3.11.9"
  }
 },
 "nbformat": 4,
 "nbformat_minor": 2
}
