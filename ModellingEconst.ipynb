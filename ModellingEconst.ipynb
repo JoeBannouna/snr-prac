{
 "cells": [
  {
   "cell_type": "code",
   "execution_count": 8,
   "metadata": {},
   "outputs": [
    {
     "ename": "ValueError",
     "evalue": "operands could not be broadcast together with shapes (10,) (100,) ",
     "output_type": "error",
     "traceback": [
      "\u001b[0;31m---------------------------------------------------------------------------\u001b[0m",
      "\u001b[0;31mValueError\u001b[0m                                Traceback (most recent call last)",
      "Cell \u001b[0;32mIn[8], line 45\u001b[0m\n\u001b[1;32m     40\u001b[0m     dist \u001b[38;5;241m=\u001b[39m N\u001b[38;5;241m*\u001b[39m(E\u001b[38;5;241m*\u001b[39m\u001b[38;5;241m*\u001b[39malpha)\u001b[38;5;241m/\u001b[39m((np\u001b[38;5;241m.\u001b[39mpi\u001b[38;5;241m*\u001b[39m\u001b[38;5;241m*\u001b[39m(\u001b[38;5;241m3\u001b[39m\u001b[38;5;241m/\u001b[39m\u001b[38;5;241m2\u001b[39m))\u001b[38;5;241m*\u001b[39m(Rdif\u001b[38;5;241m*\u001b[39m\u001b[38;5;241m*\u001b[39m\u001b[38;5;241m3\u001b[39m))\u001b[38;5;241m*\u001b[39mnp\u001b[38;5;241m.\u001b[39mexp(\u001b[38;5;241m-\u001b[39m(R\u001b[38;5;241m*\u001b[39m\u001b[38;5;241m*\u001b[39m\u001b[38;5;241m2\u001b[39m)\u001b[38;5;241m/\u001b[39m(Rdif\u001b[38;5;241m*\u001b[39m\u001b[38;5;241m*\u001b[39m\u001b[38;5;241m2\u001b[39m))\n\u001b[1;32m     42\u001b[0m     \u001b[38;5;28;01mreturn\u001b[39;00m dist\n\u001b[0;32m---> 45\u001b[0m \u001b[38;5;28mprint\u001b[39m(constantEDistribution(R, t, \u001b[38;5;241m1\u001b[39m))\n",
      "Cell \u001b[0;32mIn[8], line 40\u001b[0m, in \u001b[0;36mconstantEDistribution\u001b[0;34m(R, t, D)\u001b[0m\n\u001b[1;32m     37\u001b[0m N \u001b[38;5;241m=\u001b[39m \u001b[38;5;241m1\u001b[39m\n\u001b[1;32m     38\u001b[0m alpha \u001b[38;5;241m=\u001b[39m \u001b[38;5;241m2.7\u001b[39m\n\u001b[0;32m---> 40\u001b[0m dist \u001b[38;5;241m=\u001b[39m N\u001b[38;5;241m*\u001b[39m(E\u001b[38;5;241m*\u001b[39m\u001b[38;5;241m*\u001b[39malpha)\u001b[38;5;241m/\u001b[39m((np\u001b[38;5;241m.\u001b[39mpi\u001b[38;5;241m*\u001b[39m\u001b[38;5;241m*\u001b[39m(\u001b[38;5;241m3\u001b[39m\u001b[38;5;241m/\u001b[39m\u001b[38;5;241m2\u001b[39m))\u001b[38;5;241m*\u001b[39m(Rdif\u001b[38;5;241m*\u001b[39m\u001b[38;5;241m*\u001b[39m\u001b[38;5;241m3\u001b[39m))\u001b[38;5;241m*\u001b[39mnp\u001b[38;5;241m.\u001b[39mexp(\u001b[38;5;241m-\u001b[39m(R\u001b[38;5;241m*\u001b[39m\u001b[38;5;241m*\u001b[39m\u001b[38;5;241m2\u001b[39m)\u001b[38;5;241m/\u001b[39m(Rdif\u001b[38;5;241m*\u001b[39m\u001b[38;5;241m*\u001b[39m\u001b[38;5;241m2\u001b[39m))\n\u001b[1;32m     42\u001b[0m \u001b[38;5;28;01mreturn\u001b[39;00m dist\n",
      "\u001b[0;31mValueError\u001b[0m: operands could not be broadcast together with shapes (10,) (100,) "
     ]
    }
   ],
   "source": [
    "import pandas as pd\n",
    "import numpy as np\n",
    "\n",
    "from scipy.ndimage import gaussian_filter\n",
    "\n",
    "import matplotlib.pyplot as plt\n",
    "from matplotlib.colors import LogNorm \n",
    "\n",
    "from astropy import units as u\n",
    "from astropy import coordinates as coord\n",
    "from astropy.io import fits\n",
    "from astropy.wcs import WCS\n",
    "from astropy.visualization.wcsaxes import WCSAxes\n",
    "from astropy.utils.data import get_pkg_data_filename\n",
    "\n",
    "from urllib.request import urlretrieve\n",
    "\n",
    "\n",
    "# Define distribution function for constant E. The general \n",
    "# modeling space is around 100-200 parsecs. E is constant in \n",
    "# this function, resulting in D being constant.\n",
    "\n",
    "R = np.linspace(-100, 100, 1000);\n",
    "t = np.linspace(0, 100, 100);\n",
    "\n",
    "# R -> The distance from the centre\n",
    "# t -> The time\n",
    "# D -> Diffusion coefficient\n",
    "# E is the energy, no energy is lost in this system\n",
    "\n",
    "def constantEDistribution(R, t, D):\n",
    "    delta = 0.45;\n",
    "    Tpp = 6*(10**7)\n",
    "    Rdif = 2 * np.sqrt(D * t)\n",
    "\n",
    "    E = np.sort(np.random.normal(10, 2, 10))\n",
    "    N = 1\n",
    "    alpha = 2.7\n",
    "\n",
    "    dist = N*(E**alpha)/((np.pi**(3/2))*(Rdif**3))*np.exp(-(R**2)/(Rdif**2))\n",
    "\n",
    "    return dist\n",
    "\n",
    "    \n",
    "print(constantEDistribution(R, t, 1))\n"
   ]
  }
 ],
 "metadata": {
  "kernelspec": {
   "display_name": "Python 3 (ipykernel)",
   "language": "python",
   "name": "python3"
  }
 },
 "nbformat": 4,
 "nbformat_minor": 2
}
